{
 "cells": [
  {
   "cell_type": "code",
   "execution_count": 1,
   "metadata": {
    "ExecuteTime": {
     "end_time": "2020-08-08T12:42:35.993000+09:00",
     "start_time": "2020-08-08T03:42:34.291Z"
    }
   },
   "outputs": [
    {
     "name": "stdout",
     "output_type": "stream",
     "text": [
      "Julia Version 1.5.0\n",
      "Commit 96786e22cc (2020-08-01 23:44 UTC)\n",
      "Platform Info:\n",
      "  OS: Linux (x86_64-pc-linux-gnu)\n",
      "  CPU: Intel(R) Core(TM) i7-9750H CPU @ 2.60GHz\n",
      "  WORD_SIZE: 64\n",
      "  LIBM: libopenlibm\n",
      "  LLVM: libLLVM-9.0.1 (ORCJIT, skylake)\n"
     ]
    }
   ],
   "source": [
    "versioninfo()"
   ]
  },
  {
   "cell_type": "markdown",
   "metadata": {},
   "source": [
    "ref: \n",
    "\n",
    "+ https://docs.julialang.org/en/v1/manual/arrays/#Broadcasting-1\n",
    "+ https://docs.julialang.org/en/v1/manual/interfaces/#man-interfaces-broadcasting-1\n",
    "+ https://docs.julialang.org/en/v1/base/arrays/#Broadcast-and-vectorization-1"
   ]
  },
  {
   "cell_type": "code",
   "execution_count": 2,
   "metadata": {
    "ExecuteTime": {
     "end_time": "2020-08-08T12:43:48.517000+09:00",
     "start_time": "2020-08-08T03:43:48.509Z"
    }
   },
   "outputs": [],
   "source": [
    "mutable struct Vec2{T} <: AbstractVector{T}\n",
    "    x::T\n",
    "    y::T\n",
    "end\n",
    "Base.length(::Vec2) = 2\n",
    "Base.size(::Vec2) = (2,)\n",
    "\n",
    "Base.getindex(a::Vec2, i::Integer) = getfield(a, fieldnames(Vec2)[i])\n",
    "Base.setindex!(a::Vec2{T}, v::T, i::Integer) where {T} = setfield!(a, fieldnames(Vec2)[i], v)\n",
    "Base.setindex!(a::Vec2{T}, v, i::Integer) where {T} = setindex!(a, convert(T, v), i)"
   ]
  },
  {
   "cell_type": "code",
   "execution_count": 3,
   "metadata": {
    "ExecuteTime": {
     "end_time": "2020-08-08T12:44:01.126000+09:00",
     "start_time": "2020-08-08T03:44:00.139Z"
    }
   },
   "outputs": [
    {
     "data": {
      "text/plain": [
       "2-element Vec2{Float64}:\n",
       " 1.0\n",
       " 2.0"
      ]
     },
     "execution_count": 3,
     "metadata": {},
     "output_type": "execute_result"
    }
   ],
   "source": [
    "vec2 = Vec2(1.0, 2.0)"
   ]
  },
  {
   "cell_type": "code",
   "execution_count": 4,
   "metadata": {
    "ExecuteTime": {
     "end_time": "2020-08-08T12:44:02.499000+09:00",
     "start_time": "2020-08-08T03:44:01.695Z"
    }
   },
   "outputs": [
    {
     "data": {
      "text/plain": [
       "2-element Array{Float64,1}:\n",
       " 2.0\n",
       " 4.0"
      ]
     },
     "execution_count": 4,
     "metadata": {},
     "output_type": "execute_result"
    }
   ],
   "source": [
    "vec2 .+ vec2"
   ]
  },
  {
   "cell_type": "code",
   "execution_count": null,
   "metadata": {},
   "outputs": [],
   "source": []
  },
  {
   "cell_type": "code",
   "execution_count": 5,
   "metadata": {
    "ExecuteTime": {
     "end_time": "2020-08-08T12:44:11.427000+09:00",
     "start_time": "2020-08-08T03:44:11.425Z"
    }
   },
   "outputs": [],
   "source": [
    "struct Vec2Style <: Broadcast.AbstractArrayStyle{1} end"
   ]
  },
  {
   "cell_type": "code",
   "execution_count": 6,
   "metadata": {
    "ExecuteTime": {
     "end_time": "2020-08-08T12:46:01.492000+09:00",
     "start_time": "2020-08-08T03:46:01.488Z"
    }
   },
   "outputs": [],
   "source": [
    "Broadcast.BroadcastStyle(::Type{<:Vec2}) = Vec2Style()"
   ]
  },
  {
   "cell_type": "code",
   "execution_count": 7,
   "metadata": {
    "ExecuteTime": {
     "end_time": "2020-08-08T12:46:09.166000+09:00",
     "start_time": "2020-08-08T03:46:08.906Z"
    }
   },
   "outputs": [
    {
     "data": {
      "text/plain": [
       "Vec2Style"
      ]
     },
     "execution_count": 7,
     "metadata": {},
     "output_type": "execute_result"
    }
   ],
   "source": [
    "Vec2Style(::Val{0}) = Vec2Style()\n",
    "Vec2Style(::Val{1}) = Vec2Style()\n",
    "Vec2Style(::Val{M}) where {M} = Broadcast.DefaultArrayStyle{M}()"
   ]
  },
  {
   "cell_type": "code",
   "execution_count": 8,
   "metadata": {
    "ExecuteTime": {
     "end_time": "2020-08-08T12:46:14.424000+09:00",
     "start_time": "2020-08-08T03:46:14.419Z"
    }
   },
   "outputs": [],
   "source": [
    "Base.zero(::Type{Vec2{T}}) where {T} = Vec2(zero(T), zero(T))\n",
    "Base.similar(bc::Broadcast.Broadcasted{Vec2Style}, ::Type{T}) where {T} = zero(Vec2{T})"
   ]
  },
  {
   "cell_type": "code",
   "execution_count": 9,
   "metadata": {
    "ExecuteTime": {
     "end_time": "2020-08-08T12:46:20.880000+09:00",
     "start_time": "2020-08-08T03:46:20.832Z"
    }
   },
   "outputs": [
    {
     "data": {
      "text/plain": [
       "2-element Vec2{Float64}:\n",
       " 2.0\n",
       " 4.0"
      ]
     },
     "execution_count": 9,
     "metadata": {},
     "output_type": "execute_result"
    }
   ],
   "source": [
    "vec2 .+ vec2"
   ]
  },
  {
   "cell_type": "code",
   "execution_count": 10,
   "metadata": {
    "ExecuteTime": {
     "end_time": "2020-08-08T12:46:21.476000+09:00",
     "start_time": "2020-08-08T03:46:21.458Z"
    }
   },
   "outputs": [
    {
     "data": {
      "text/plain": [
       "2-element Vec2{Float64}:\n",
       " 2.0\n",
       " 4.0"
      ]
     },
     "execution_count": 10,
     "metadata": {},
     "output_type": "execute_result"
    }
   ],
   "source": [
    "vec2 + vec2"
   ]
  },
  {
   "cell_type": "code",
   "execution_count": 11,
   "metadata": {
    "ExecuteTime": {
     "end_time": "2020-08-08T12:46:30.270000+09:00",
     "start_time": "2020-08-08T03:46:30.214Z"
    }
   },
   "outputs": [
    {
     "data": {
      "text/plain": [
       "2-element Vec2{Float64}:\n",
       " 2.0\n",
       " 4.0"
      ]
     },
     "execution_count": 11,
     "metadata": {},
     "output_type": "execute_result"
    }
   ],
   "source": [
    "2 .* vec2"
   ]
  },
  {
   "cell_type": "code",
   "execution_count": 12,
   "metadata": {
    "ExecuteTime": {
     "end_time": "2020-08-08T12:46:35.357000+09:00",
     "start_time": "2020-08-08T03:46:35.334Z"
    }
   },
   "outputs": [
    {
     "data": {
      "text/plain": [
       "2-element Vec2{Float64}:\n",
       " 2.0\n",
       " 4.0"
      ]
     },
     "execution_count": 12,
     "metadata": {},
     "output_type": "execute_result"
    }
   ],
   "source": [
    "2vec2"
   ]
  },
  {
   "cell_type": "code",
   "execution_count": null,
   "metadata": {},
   "outputs": [],
   "source": []
  },
  {
   "cell_type": "code",
   "execution_count": 13,
   "metadata": {
    "ExecuteTime": {
     "end_time": "2020-08-08T12:46:37.650000+09:00",
     "start_time": "2020-08-08T03:46:37.592Z"
    }
   },
   "outputs": [
    {
     "data": {
      "text/plain": [
       "2-element Vec2{Float64}:\n",
       " 4.0\n",
       " 6.0"
      ]
     },
     "execution_count": 13,
     "metadata": {},
     "output_type": "execute_result"
    }
   ],
   "source": [
    "vec2 .+ [3, 4]"
   ]
  },
  {
   "cell_type": "code",
   "execution_count": 14,
   "metadata": {
    "ExecuteTime": {
     "end_time": "2020-08-08T12:46:38.249000+09:00",
     "start_time": "2020-08-08T03:46:38.185Z"
    }
   },
   "outputs": [
    {
     "data": {
      "text/plain": [
       "2-element Vec2{Float64}:\n",
       " 4.0\n",
       " 6.0"
      ]
     },
     "execution_count": 14,
     "metadata": {},
     "output_type": "execute_result"
    }
   ],
   "source": [
    "[3, 4] .+ vec2"
   ]
  },
  {
   "cell_type": "code",
   "execution_count": null,
   "metadata": {},
   "outputs": [],
   "source": []
  },
  {
   "cell_type": "code",
   "execution_count": 15,
   "metadata": {
    "ExecuteTime": {
     "end_time": "2020-08-08T12:46:40.192000+09:00",
     "start_time": "2020-08-08T03:46:39.342Z"
    },
    "scrolled": true
   },
   "outputs": [
    {
     "data": {
      "text/plain": [
       "2×2 Array{Float64,2}:\n",
       " 2.0  3.0\n",
       " 5.0  6.0"
      ]
     },
     "execution_count": 15,
     "metadata": {},
     "output_type": "execute_result"
    }
   ],
   "source": [
    "[1 2;3 4] .+ vec2"
   ]
  },
  {
   "cell_type": "code",
   "execution_count": null,
   "metadata": {},
   "outputs": [],
   "source": []
  },
  {
   "cell_type": "code",
   "execution_count": 16,
   "metadata": {
    "ExecuteTime": {
     "end_time": "2020-08-08T12:46:53.637000+09:00",
     "start_time": "2020-08-08T03:46:53.612Z"
    }
   },
   "outputs": [],
   "source": [
    "using BenchmarkTools\n",
    "using Random"
   ]
  },
  {
   "cell_type": "code",
   "execution_count": 17,
   "metadata": {
    "ExecuteTime": {
     "end_time": "2020-08-08T12:46:56.376000+09:00",
     "start_time": "2020-08-08T03:46:56.372Z"
    }
   },
   "outputs": [],
   "source": [
    "Base.rand(rng::Random.AbstractRNG, sp::Random.Sampler{Vec2{T}}) where {T} = Vec2(rand(rng, T), rand(rng, T))"
   ]
  },
  {
   "cell_type": "code",
   "execution_count": 18,
   "metadata": {
    "ExecuteTime": {
     "end_time": "2020-08-08T12:49:15.215000+09:00",
     "start_time": "2020-08-08T03:49:15.193Z"
    }
   },
   "outputs": [],
   "source": [
    "vec2a = rand(Vec2{Float64});\n",
    "vec2b = rand(Vec2{Float64});"
   ]
  },
  {
   "cell_type": "code",
   "execution_count": 19,
   "metadata": {
    "ExecuteTime": {
     "end_time": "2020-08-08T12:49:48.799000+09:00",
     "start_time": "2020-08-08T03:49:43.437Z"
    }
   },
   "outputs": [
    {
     "data": {
      "text/plain": [
       "BenchmarkTools.Trial: \n",
       "  memory estimate:  1.13 KiB\n",
       "  allocs estimate:  27\n",
       "  --------------\n",
       "  minimum time:     6.157 μs (0.00% GC)\n",
       "  median time:      6.464 μs (0.00% GC)\n",
       "  mean time:        6.868 μs (0.50% GC)\n",
       "  maximum time:     351.483 μs (97.67% GC)\n",
       "  --------------\n",
       "  samples:          10000\n",
       "  evals/sample:     5"
      ]
     },
     "execution_count": 19,
     "metadata": {},
     "output_type": "execute_result"
    }
   ],
   "source": [
    "@benchmark vec2a .+ vec2b"
   ]
  },
  {
   "cell_type": "code",
   "execution_count": 20,
   "metadata": {
    "ExecuteTime": {
     "end_time": "2020-08-08T12:50:11.968000+09:00",
     "start_time": "2020-08-08T03:50:11.919Z"
    }
   },
   "outputs": [],
   "source": [
    "arr2a = rand(Float64, 2);\n",
    "arr2b = rand(Float64, 2);"
   ]
  },
  {
   "cell_type": "code",
   "execution_count": 21,
   "metadata": {
    "ExecuteTime": {
     "end_time": "2020-08-08T12:50:24.789000+09:00",
     "start_time": "2020-08-08T03:50:23.031Z"
    }
   },
   "outputs": [
    {
     "data": {
      "text/plain": [
       "BenchmarkTools.Trial: \n",
       "  memory estimate:  160 bytes\n",
       "  allocs estimate:  3\n",
       "  --------------\n",
       "  minimum time:     368.589 ns (0.00% GC)\n",
       "  median time:      388.684 ns (0.00% GC)\n",
       "  mean time:        422.199 ns (2.32% GC)\n",
       "  maximum time:     20.045 μs (95.83% GC)\n",
       "  --------------\n",
       "  samples:          10000\n",
       "  evals/sample:     207"
      ]
     },
     "execution_count": 21,
     "metadata": {},
     "output_type": "execute_result"
    }
   ],
   "source": [
    "@benchmark arr2a .+ arr2b"
   ]
  }
 ],
 "metadata": {
  "kernelspec": {
   "display_name": "Julia 1.5.0",
   "language": "julia",
   "name": "julia-1.5"
  },
  "language_info": {
   "file_extension": ".jl",
   "mimetype": "application/julia",
   "name": "julia",
   "version": "1.5.0"
  }
 },
 "nbformat": 4,
 "nbformat_minor": 2
}
