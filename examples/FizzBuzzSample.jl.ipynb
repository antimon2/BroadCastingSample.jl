{
 "cells": [
  {
   "cell_type": "code",
   "execution_count": 1,
   "metadata": {
    "ExecuteTime": {
     "end_time": "2020-08-08T12:56:58.468000+09:00",
     "start_time": "2020-08-08T03:56:56.824Z"
    }
   },
   "outputs": [
    {
     "name": "stdout",
     "output_type": "stream",
     "text": [
      "Julia Version 1.5.0\n",
      "Commit 96786e22cc (2020-08-01 23:44 UTC)\n",
      "Platform Info:\n",
      "  OS: Linux (x86_64-pc-linux-gnu)\n",
      "  CPU: Intel(R) Core(TM) i7-9750H CPU @ 2.60GHz\n",
      "  WORD_SIZE: 64\n",
      "  LIBM: libopenlibm\n",
      "  LLVM: libLLVM-9.0.1 (ORCJIT, skylake)\n"
     ]
    }
   ],
   "source": [
    "versioninfo()"
   ]
  },
  {
   "cell_type": "code",
   "execution_count": 2,
   "metadata": {
    "ExecuteTime": {
     "end_time": "2020-08-08T12:56:59.363000+09:00",
     "start_time": "2020-08-08T03:56:58.862Z"
    }
   },
   "outputs": [
    {
     "data": {
      "text/plain": [
       "fizz (generic function with 2 methods)"
      ]
     },
     "execution_count": 2,
     "metadata": {},
     "output_type": "execute_result"
    }
   ],
   "source": [
    "fizz(val::Int) = val % 3 == 0 ? \"Fizz\" : val\n",
    "fizz(val) = val"
   ]
  },
  {
   "cell_type": "code",
   "execution_count": 3,
   "metadata": {
    "ExecuteTime": {
     "end_time": "2020-08-08T12:56:59.783000+09:00",
     "start_time": "2020-08-08T03:56:59.702Z"
    }
   },
   "outputs": [
    {
     "data": {
      "text/plain": [
       "buzz (generic function with 2 methods)"
      ]
     },
     "execution_count": 3,
     "metadata": {},
     "output_type": "execute_result"
    }
   ],
   "source": [
    "buzz(val::Int) = val % 5 == 0 ? \"Buzz\" : val\n",
    "buzz(val) = val"
   ]
  },
  {
   "cell_type": "code",
   "execution_count": 4,
   "metadata": {
    "ExecuteTime": {
     "end_time": "2020-08-08T12:57:00.312000+09:00",
     "start_time": "2020-08-08T03:57:00.259Z"
    }
   },
   "outputs": [
    {
     "name": "stdout",
     "output_type": "stream",
     "text": [
      "1\n",
      "2\n",
      "Fizz\n",
      "4\n",
      "5\n",
      "Fizz\n",
      "7\n",
      "8\n",
      "Fizz\n",
      "10\n",
      "11\n",
      "Fizz\n",
      "13\n",
      "14\n",
      "Fizz\n"
     ]
    }
   ],
   "source": [
    "for n = 1:15\n",
    "    n |> fizz |> println\n",
    "end"
   ]
  },
  {
   "cell_type": "code",
   "execution_count": 5,
   "metadata": {
    "ExecuteTime": {
     "end_time": "2020-08-08T12:57:00.868000+09:00",
     "start_time": "2020-08-08T03:57:00.847Z"
    }
   },
   "outputs": [
    {
     "name": "stdout",
     "output_type": "stream",
     "text": [
      "1\n",
      "2\n",
      "3\n",
      "4\n",
      "Buzz\n",
      "6\n",
      "7\n",
      "8\n",
      "9\n",
      "Buzz\n",
      "11\n",
      "12\n",
      "13\n",
      "14\n",
      "Buzz\n"
     ]
    }
   ],
   "source": [
    "for n = 1:15\n",
    "    n |> buzz |> println\n",
    "end"
   ]
  },
  {
   "cell_type": "code",
   "execution_count": 6,
   "metadata": {
    "ExecuteTime": {
     "end_time": "2020-08-08T12:57:01.418000+09:00",
     "start_time": "2020-08-08T03:57:01.390Z"
    }
   },
   "outputs": [
    {
     "name": "stdout",
     "output_type": "stream",
     "text": [
      "1\n",
      "2\n",
      "Fizz\n",
      "4\n",
      "Buzz\n",
      "Fizz\n",
      "7\n",
      "8\n",
      "Fizz\n",
      "Buzz\n",
      "11\n",
      "Fizz\n",
      "13\n",
      "14\n",
      "Fizz\n"
     ]
    }
   ],
   "source": [
    "for n = 1:15\n",
    "    n |> fizz |> buzz |> println\n",
    "end"
   ]
  },
  {
   "cell_type": "markdown",
   "metadata": {},
   "source": [
    "↑最後の出力を `\"FizzBuzz\"` にしたい！"
   ]
  },
  {
   "cell_type": "code",
   "execution_count": 7,
   "metadata": {
    "ExecuteTime": {
     "end_time": "2020-08-08T12:57:04.045000+09:00",
     "start_time": "2020-08-08T03:57:03.953Z"
    }
   },
   "outputs": [
    {
     "data": {
      "text/plain": [
       "_combine (generic function with 4 methods)"
      ]
     },
     "execution_count": 7,
     "metadata": {},
     "output_type": "execute_result"
    }
   ],
   "source": [
    "struct WrappedFizzBuzzFn0d{F}\n",
    "    fn::F\n",
    "    val::Int\n",
    "end\n",
    "(fn::WrappedFizzBuzzFn0d)(val::Int) = fn.fn(val)\n",
    "(fn::WrappedFizzBuzzFn0d)(val) = _combine(val, fn.fn(fn.val))\n",
    "\n",
    "_combine(n::Int, ::Int) = n\n",
    "_combine(val::String, ::Int) = val\n",
    "_combine(::Int, val::String) = val\n",
    "_combine(val1::String, val2::String) = val1 * val2"
   ]
  },
  {
   "cell_type": "code",
   "execution_count": 8,
   "metadata": {
    "ExecuteTime": {
     "end_time": "2020-08-08T12:57:04.849000+09:00",
     "start_time": "2020-08-08T03:57:04.845Z"
    }
   },
   "outputs": [],
   "source": [
    "struct FizzBuzzStyle{N} <: Broadcast.AbstractArrayStyle{N} end"
   ]
  },
  {
   "cell_type": "code",
   "execution_count": 9,
   "metadata": {
    "ExecuteTime": {
     "end_time": "2020-08-08T12:57:05.612000+09:00",
     "start_time": "2020-08-08T03:57:05.359Z"
    }
   },
   "outputs": [
    {
     "data": {
      "text/plain": [
       "Union{typeof(buzz), typeof(fizz), WrappedFizzBuzzFn0d{var\"#s3\"} where var\"#s3\"<:Union{typeof(buzz), typeof(fizz)}}"
      ]
     },
     "execution_count": 9,
     "metadata": {},
     "output_type": "execute_result"
    }
   ],
   "source": [
    "const _FizzBuzzFn = Union{typeof(fizz), typeof(buzz)}\n",
    "const FizzBuzzFn = Union{_FizzBuzzFn, WrappedFizzBuzzFn0d{<:_FizzBuzzFn}}"
   ]
  },
  {
   "cell_type": "code",
   "execution_count": 10,
   "metadata": {
    "ExecuteTime": {
     "end_time": "2020-08-08T12:57:06.234000+09:00",
     "start_time": "2020-08-08T03:57:06.231Z"
    }
   },
   "outputs": [],
   "source": [
    "Broadcast.broadcasted(fn::FizzBuzzFn, n::Int) = \n",
    "    Broadcast.Broadcasted{FizzBuzzStyle{0}}(WrappedFizzBuzzFn0d(fn, n), (n,))\n",
    "Broadcast.broadcasted(fn::FizzBuzzFn, bc::Broadcast.Broadcasted{FizzBuzzStyle{0}}) = \n",
    "    Broadcast.Broadcasted{FizzBuzzStyle{0}}(WrappedFizzBuzzFn0d(fn, bc.f.val), (bc,))"
   ]
  },
  {
   "cell_type": "code",
   "execution_count": 11,
   "metadata": {
    "ExecuteTime": {
     "end_time": "2020-08-08T12:57:07.231000+09:00",
     "start_time": "2020-08-08T03:57:06.884Z"
    }
   },
   "outputs": [
    {
     "data": {
      "text/plain": [
       "Base.Broadcast.Broadcasted(WrappedFizzBuzzFn0d{typeof(buzz)}(buzz, 15), (Base.Broadcast.Broadcasted(WrappedFizzBuzzFn0d{typeof(fizz)}(fizz, 15), (15,)),))"
      ]
     },
     "execution_count": 11,
     "metadata": {},
     "output_type": "execute_result"
    }
   ],
   "source": [
    "bc1 = Broadcast.broadcasted(fizz, 15)\n",
    "bc2 = Broadcast.broadcasted(buzz, bc1)"
   ]
  },
  {
   "cell_type": "code",
   "execution_count": 12,
   "metadata": {
    "ExecuteTime": {
     "end_time": "2020-08-08T12:57:08.149000+09:00",
     "start_time": "2020-08-08T03:57:07.917Z"
    }
   },
   "outputs": [
    {
     "data": {
      "text/plain": [
       "\"Fizz\""
      ]
     },
     "execution_count": 12,
     "metadata": {},
     "output_type": "execute_result"
    }
   ],
   "source": [
    "bc1[]"
   ]
  },
  {
   "cell_type": "code",
   "execution_count": 13,
   "metadata": {
    "ExecuteTime": {
     "end_time": "2020-08-08T12:57:08.523000+09:00",
     "start_time": "2020-08-08T03:57:08.502Z"
    }
   },
   "outputs": [
    {
     "data": {
      "text/plain": [
       "\"FizzBuzz\""
      ]
     },
     "execution_count": 13,
     "metadata": {},
     "output_type": "execute_result"
    }
   ],
   "source": [
    "bc2[]"
   ]
  },
  {
   "cell_type": "code",
   "execution_count": 14,
   "metadata": {
    "ExecuteTime": {
     "end_time": "2020-08-08T12:57:09.100000+09:00",
     "start_time": "2020-08-08T03:57:09.055Z"
    }
   },
   "outputs": [
    {
     "data": {
      "text/plain": [
       "\"Fizz\""
      ]
     },
     "execution_count": 14,
     "metadata": {},
     "output_type": "execute_result"
    }
   ],
   "source": [
    "3 .|> fizz .|> buzz"
   ]
  },
  {
   "cell_type": "code",
   "execution_count": 15,
   "metadata": {
    "ExecuteTime": {
     "end_time": "2020-08-08T12:57:09.516000+09:00",
     "start_time": "2020-08-08T03:57:09.514Z"
    }
   },
   "outputs": [
    {
     "data": {
      "text/plain": [
       "\"Buzz\""
      ]
     },
     "execution_count": 15,
     "metadata": {},
     "output_type": "execute_result"
    }
   ],
   "source": [
    "5 .|> fizz .|> buzz"
   ]
  },
  {
   "cell_type": "code",
   "execution_count": 16,
   "metadata": {
    "ExecuteTime": {
     "end_time": "2020-08-08T12:57:10.039000+09:00",
     "start_time": "2020-08-08T03:57:10.033Z"
    }
   },
   "outputs": [
    {
     "data": {
      "text/plain": [
       "\"Fizz\""
      ]
     },
     "execution_count": 16,
     "metadata": {},
     "output_type": "execute_result"
    }
   ],
   "source": [
    "15 .|> fizz .|> buzz"
   ]
  },
  {
   "cell_type": "code",
   "execution_count": 17,
   "metadata": {
    "ExecuteTime": {
     "end_time": "2020-08-08T12:57:10.647000+09:00",
     "start_time": "2020-08-08T03:57:10.642Z"
    }
   },
   "outputs": [],
   "source": [
    "Broadcast.broadcasted(::typeof(|>), val, fn::FizzBuzzFn) = Broadcast.broadcasted(fn, val)"
   ]
  },
  {
   "cell_type": "code",
   "execution_count": 18,
   "metadata": {
    "ExecuteTime": {
     "end_time": "2020-08-08T12:57:11.179000+09:00",
     "start_time": "2020-08-08T03:57:11.160Z"
    }
   },
   "outputs": [
    {
     "data": {
      "text/plain": [
       "\"FizzBuzz\""
      ]
     },
     "execution_count": 18,
     "metadata": {},
     "output_type": "execute_result"
    }
   ],
   "source": [
    "15 .|> fizz .|> buzz"
   ]
  },
  {
   "cell_type": "code",
   "execution_count": 19,
   "metadata": {
    "ExecuteTime": {
     "end_time": "2020-08-08T12:57:12.108000+09:00",
     "start_time": "2020-08-08T03:57:12.059Z"
    }
   },
   "outputs": [
    {
     "name": "stdout",
     "output_type": "stream",
     "text": [
      "1\n",
      "2\n",
      "Fizz\n",
      "4\n",
      "Buzz\n",
      "Fizz\n",
      "7\n",
      "8\n",
      "Fizz\n",
      "Buzz\n",
      "11\n",
      "Fizz\n",
      "13\n",
      "14\n",
      "FizzBuzz\n"
     ]
    }
   ],
   "source": [
    "for n = 1:15\n",
    "    n .|> fizz .|> buzz .|> println\n",
    "end"
   ]
  },
  {
   "cell_type": "code",
   "execution_count": 20,
   "metadata": {
    "ExecuteTime": {
     "end_time": "2020-08-08T12:57:12.762000+09:00",
     "start_time": "2020-08-08T03:57:12.686Z"
    },
    "scrolled": true
   },
   "outputs": [
    {
     "name": "stdout",
     "output_type": "stream",
     "text": [
      "1\n",
      "2\n",
      "Fizz\n",
      "4\n",
      "Buzz\n",
      "Fizz\n",
      "7\n",
      "8\n",
      "Fizz\n",
      "Buzz\n",
      "11\n",
      "Fizz\n",
      "13\n",
      "14\n",
      "Fizz\n"
     ]
    }
   ],
   "source": [
    "1:15 .|> fizz .|> buzz .|> println;"
   ]
  },
  {
   "cell_type": "markdown",
   "metadata": {},
   "source": [
    "↑これも最後の出力を `\"FizzBuzz\"` にしたい！"
   ]
  },
  {
   "cell_type": "code",
   "execution_count": 21,
   "metadata": {
    "ExecuteTime": {
     "end_time": "2020-08-08T12:57:14.238000+09:00",
     "start_time": "2020-08-08T03:57:14.233Z"
    }
   },
   "outputs": [],
   "source": [
    "struct WrappedFizzBuzzFnNd{N}\n",
    "    fn::FizzBuzzFn\n",
    "    val::AbstractArray{Int, N}\n",
    "end\n",
    "Base.getindex(fn::WrappedFizzBuzzFnNd, idx) = WrappedFizzBuzzFn0d(fn.fn, fn.val[idx])"
   ]
  },
  {
   "cell_type": "code",
   "execution_count": 22,
   "metadata": {
    "ExecuteTime": {
     "end_time": "2020-08-08T12:57:14.739000+09:00",
     "start_time": "2020-08-08T03:57:14.732Z"
    }
   },
   "outputs": [],
   "source": [
    "Broadcast.broadcasted(fn::FizzBuzzFn, val::AbstractArray{Int, N}) where {N} = \n",
    "    Broadcast.Broadcasted{FizzBuzzStyle{N}}(WrappedFizzBuzzFnNd{N}(fn, val), (val,))\n",
    "Broadcast.broadcasted(fn::FizzBuzzFn, bc::Broadcast.Broadcasted{FizzBuzzStyle{N}}) where {N} = \n",
    "    Broadcast.Broadcasted{FizzBuzzStyle{N}}(WrappedFizzBuzzFnNd{N}(fn, bc.f.val), (bc,))"
   ]
  },
  {
   "cell_type": "code",
   "execution_count": 23,
   "metadata": {
    "ExecuteTime": {
     "end_time": "2020-08-08T12:57:15.290000+09:00",
     "start_time": "2020-08-08T03:57:15.287Z"
    }
   },
   "outputs": [],
   "source": [
    "Broadcast.broadcasted(fn::FizzBuzzFn, bc::Broadcast.Broadcasted{<:Broadcast.AbstractArrayStyle{N}}) where {N} = \n",
    "    Broadcast.Broadcasted{FizzBuzzStyle{N}}(WrappedFizzBuzzFnNd{N}(fn, copy(bc)), (bc,))"
   ]
  },
  {
   "cell_type": "code",
   "execution_count": 24,
   "metadata": {
    "ExecuteTime": {
     "end_time": "2020-08-08T12:57:15.651000+09:00",
     "start_time": "2020-08-08T03:57:15.645Z"
    }
   },
   "outputs": [],
   "source": [
    "Broadcast.broadcasted(fn::FizzBuzzFn, v::Broadcast.Extruded{<:AbstractArray{T, N}}) where {T, N} = \n",
    "    Broadcast.Broadcasted{FizzBuzzStyle{N}}(WrappedFizzBuzzFnNd{N}(fn, v.x), (v.x,))"
   ]
  },
  {
   "cell_type": "code",
   "execution_count": 25,
   "metadata": {
    "ExecuteTime": {
     "end_time": "2020-08-08T12:57:15.983000+09:00",
     "start_time": "2020-08-08T03:57:15.980Z"
    }
   },
   "outputs": [],
   "source": [
    "Base.similar(bc::Broadcast.Broadcasted{FizzBuzzStyle{N}}, ::Type{ElType}) where {N,ElType} =\n",
    "    similar(Array{ElType}, axes(bc))"
   ]
  },
  {
   "cell_type": "code",
   "execution_count": 26,
   "metadata": {
    "ExecuteTime": {
     "end_time": "2020-08-08T12:57:16.320000+09:00",
     "start_time": "2020-08-08T03:57:16.318Z"
    }
   },
   "outputs": [],
   "source": [
    "Base.@propagate_inbounds function Broadcast._broadcast_getindex(bc::Broadcast.Broadcasted{FizzBuzzStyle{0},<:Any,<:Any,<:Any}, I)\n",
    "    args = Broadcast._getindex(bc.args, I)\n",
    "    return Broadcast._broadcast_getindex_evalf(bc.f, args...)\n",
    "end"
   ]
  },
  {
   "cell_type": "code",
   "execution_count": 27,
   "metadata": {
    "ExecuteTime": {
     "end_time": "2020-08-08T12:57:16.668000+09:00",
     "start_time": "2020-08-08T03:57:16.662Z"
    }
   },
   "outputs": [],
   "source": [
    "Base.@propagate_inbounds function Broadcast._broadcast_getindex(bc::Broadcast.Broadcasted{FizzBuzzStyle{N},<:Any,<:Any,<:Any}, I) where {N}\n",
    "    args = Broadcast._getindex(bc.args, I)\n",
    "    return Broadcast._broadcast_getindex_evalf(bc.f[I], args...)\n",
    "end"
   ]
  },
  {
   "cell_type": "code",
   "execution_count": 28,
   "metadata": {
    "ExecuteTime": {
     "end_time": "2020-08-08T12:57:18.859000+09:00",
     "start_time": "2020-08-08T03:57:17.938Z"
    },
    "scrolled": true
   },
   "outputs": [
    {
     "data": {
      "text/plain": [
       "15-element Array{Any,1}:\n",
       "  1\n",
       "  2\n",
       "   \"Fizz\"\n",
       "  4\n",
       "   \"Buzz\"\n",
       "   \"Fizz\"\n",
       "  7\n",
       "  8\n",
       "   \"Fizz\"\n",
       "   \"Buzz\"\n",
       " 11\n",
       "   \"Fizz\"\n",
       " 13\n",
       " 14\n",
       "   \"FizzBuzz\""
      ]
     },
     "execution_count": 28,
     "metadata": {},
     "output_type": "execute_result"
    }
   ],
   "source": [
    "1:15 .|> fizz .|> buzz"
   ]
  },
  {
   "cell_type": "code",
   "execution_count": 29,
   "metadata": {
    "ExecuteTime": {
     "end_time": "2020-08-08T12:57:22.979000+09:00",
     "start_time": "2020-08-08T03:57:22.387Z"
    },
    "scrolled": true
   },
   "outputs": [
    {
     "ename": "LoadError",
     "evalue": "MethodError: no method matching FizzBuzzStyle{1}(::Val{1})\nClosest candidates are:\n  FizzBuzzStyle{1}() where N at In[8]:1",
     "output_type": "error",
     "traceback": [
      "MethodError: no method matching FizzBuzzStyle{1}(::Val{1})\nClosest candidates are:\n  FizzBuzzStyle{1}() where N at In[8]:1",
      "",
      "Stacktrace:",
      " [1] Base.Broadcast.BroadcastStyle(::FizzBuzzStyle{1}, ::Base.Broadcast.DefaultArrayStyle{0}) at ./broadcast.jl:149",
      " [2] result_style(::FizzBuzzStyle{1}, ::Base.Broadcast.DefaultArrayStyle{0}) at ./broadcast.jl:445",
      " [3] combine_styles(::Base.Broadcast.Broadcasted{FizzBuzzStyle{1},Nothing,WrappedFizzBuzzFnNd{1},Tuple{Base.Broadcast.Broadcasted{FizzBuzzStyle{1},Nothing,WrappedFizzBuzzFnNd{1},Tuple{UnitRange{Int64}}}}}, ::Base.RefValue{typeof(println)}) at ./broadcast.jl:421",
      " [4] broadcasted(::Function, ::Base.Broadcast.Broadcasted{FizzBuzzStyle{1},Nothing,WrappedFizzBuzzFnNd{1},Tuple{Base.Broadcast.Broadcasted{FizzBuzzStyle{1},Nothing,WrappedFizzBuzzFnNd{1},Tuple{UnitRange{Int64}}}}}, ::Function) at ./broadcast.jl:1263",
      " [5] top-level scope at In[29]:1",
      " [6] include_string(::Function, ::Module, ::String, ::String) at ./loading.jl:1091"
     ]
    }
   ],
   "source": [
    "1:15 .|> fizz .|> buzz .|> println"
   ]
  },
  {
   "cell_type": "code",
   "execution_count": 30,
   "metadata": {
    "ExecuteTime": {
     "end_time": "2020-08-08T12:57:24.089000+09:00",
     "start_time": "2020-08-08T03:57:24.085Z"
    }
   },
   "outputs": [],
   "source": [
    "(::Type{FizzBuzzStyle{N}})(::Val{M}) where {N, M} = Broadcast.DefaultArrayStyle{M}()"
   ]
  },
  {
   "cell_type": "code",
   "execution_count": 31,
   "metadata": {
    "ExecuteTime": {
     "end_time": "2020-08-08T12:57:24.821000+09:00",
     "start_time": "2020-08-08T03:57:24.742Z"
    },
    "scrolled": true
   },
   "outputs": [
    {
     "name": "stdout",
     "output_type": "stream",
     "text": [
      "1\n",
      "2\n",
      "Fizz\n",
      "4\n",
      "Buzz\n",
      "Fizz\n",
      "7\n",
      "8\n",
      "Fizz\n",
      "Buzz\n",
      "11\n",
      "Fizz\n",
      "13\n",
      "14\n",
      "FizzBuzz\n"
     ]
    }
   ],
   "source": [
    "1:15 .|> fizz .|> buzz .|> println;"
   ]
  },
  {
   "cell_type": "code",
   "execution_count": null,
   "metadata": {},
   "outputs": [],
   "source": []
  }
 ],
 "metadata": {
  "kernelspec": {
   "display_name": "Julia 1.5.0",
   "language": "julia",
   "name": "julia-1.5"
  },
  "language_info": {
   "file_extension": ".jl",
   "mimetype": "application/julia",
   "name": "julia",
   "version": "1.5.0"
  }
 },
 "nbformat": 4,
 "nbformat_minor": 2
}
