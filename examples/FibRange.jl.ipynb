{
 "cells": [
  {
   "cell_type": "code",
   "execution_count": 1,
   "metadata": {
    "ExecuteTime": {
     "end_time": "2020-08-08T12:51:58.595000+09:00",
     "start_time": "2020-08-08T03:51:55.812Z"
    }
   },
   "outputs": [
    {
     "name": "stdout",
     "output_type": "stream",
     "text": [
      "Julia Version 1.5.0\n",
      "Commit 96786e22cc (2020-08-01 23:44 UTC)\n",
      "Platform Info:\n",
      "  OS: Linux (x86_64-pc-linux-gnu)\n",
      "  CPU: Intel(R) Core(TM) i7-9750H CPU @ 2.60GHz\n",
      "  WORD_SIZE: 64\n",
      "  LIBM: libopenlibm\n",
      "  LLVM: libLLVM-9.0.1 (ORCJIT, skylake)\n"
     ]
    }
   ],
   "source": [
    "versioninfo()"
   ]
  },
  {
   "cell_type": "code",
   "execution_count": 2,
   "metadata": {
    "ExecuteTime": {
     "end_time": "2020-08-08T12:52:10.459000+09:00",
     "start_time": "2020-08-08T03:52:09.920Z"
    }
   },
   "outputs": [
    {
     "data": {
      "text/plain": [
       "fib_n (generic function with 2 methods)"
      ]
     },
     "execution_count": 2,
     "metadata": {},
     "output_type": "execute_result"
    }
   ],
   "source": [
    "function fib_n(n::Integer)\n",
    "    d = Dict(zero(n)=>big\"0\", one(n)=>big\"1\")\n",
    "    fib_n(n, d)\n",
    "end\n",
    "function fib_n(n, d)\n",
    "    if haskey(d, n)\n",
    "        return d[n]\n",
    "    end\n",
    "    if n < 0\n",
    "        result = iseven(n) ? -fib_n(-n, d) : fib_n(-n, d)\n",
    "        d[n] = result\n",
    "        return result\n",
    "    end\n",
    "    m = n ÷ 2\n",
    "    result = if iseven(n)\n",
    "        (2 * fib_n(m - 1, d) + fib_n(m, d)) * fib_n(m, d)\n",
    "    else\n",
    "        fib_n(m, d) ^ 2 + fib_n(m + 1, d) ^ 2\n",
    "    end\n",
    "    d[n] = result\n",
    "    return result\n",
    "end"
   ]
  },
  {
   "cell_type": "code",
   "execution_count": 3,
   "metadata": {
    "ExecuteTime": {
     "end_time": "2020-08-08T12:52:11.039000+09:00",
     "start_time": "2020-08-08T03:52:10.835Z"
    }
   },
   "outputs": [
    {
     "data": {
      "text/plain": [
       "FibType()"
      ]
     },
     "execution_count": 3,
     "metadata": {},
     "output_type": "execute_result"
    }
   ],
   "source": [
    "struct FibType end\n",
    "const Fib = FibType()"
   ]
  },
  {
   "cell_type": "code",
   "execution_count": 4,
   "metadata": {
    "ExecuteTime": {
     "end_time": "2020-08-08T12:52:11.817000+09:00",
     "start_time": "2020-08-08T03:52:11.811Z"
    }
   },
   "outputs": [],
   "source": [
    "Base.getindex(::FibType, index::Integer) = fib_n(index)"
   ]
  },
  {
   "cell_type": "code",
   "execution_count": 5,
   "metadata": {
    "ExecuteTime": {
     "end_time": "2020-08-08T12:52:12.530000+09:00",
     "start_time": "2020-08-08T03:52:12.525Z"
    }
   },
   "outputs": [],
   "source": [
    "struct FibRange{R<:AbstractRange{<:Integer}}\n",
    "    range::R\n",
    "end"
   ]
  },
  {
   "cell_type": "code",
   "execution_count": 6,
   "metadata": {
    "ExecuteTime": {
     "end_time": "2020-08-08T12:52:14.219000+09:00",
     "start_time": "2020-08-08T03:52:14.214Z"
    }
   },
   "outputs": [],
   "source": [
    "Base.getindex(::FibType, r::AbstractRange{<:Integer}) = FibRange(r)"
   ]
  },
  {
   "cell_type": "code",
   "execution_count": 7,
   "metadata": {
    "ExecuteTime": {
     "end_time": "2020-08-08T12:52:14.968000+09:00",
     "start_time": "2020-08-08T03:52:14.956Z"
    }
   },
   "outputs": [],
   "source": [
    "Base.IteratorEltype(::Type{<:FibRange}) = Base.HasEltype()\n",
    "Base.eltype(::Type{<:FibRange}) = BigInt"
   ]
  },
  {
   "cell_type": "code",
   "execution_count": 8,
   "metadata": {
    "ExecuteTime": {
     "end_time": "2020-08-08T12:52:15.418000+09:00",
     "start_time": "2020-08-08T03:52:15.409Z"
    }
   },
   "outputs": [],
   "source": [
    "Base.IteratorSize(::Type{<:FibRange}) = Base.HasShape{1}()\n",
    "Base.length(fr::FibRange) = length(fr.range)\n",
    "Base.size(fr::FibRange) = size(fr.range)"
   ]
  },
  {
   "cell_type": "code",
   "execution_count": 9,
   "metadata": {
    "ExecuteTime": {
     "end_time": "2020-08-08T12:52:17.341000+09:00",
     "start_time": "2020-08-08T03:52:17.332Z"
    }
   },
   "outputs": [],
   "source": [
    "function Base.iterate(fr::FibRange{<:UnitRange})\n",
    "    index = fr.range.start\n",
    "    start = Fib[index]\n",
    "    prev = Fib[index - 1]\n",
    "    len = length(fr)\n",
    "    iterate(fr, (start, prev, len))\n",
    "end\n",
    "function Base.iterate(fr::FibRange{<:UnitRange}, (current, prev, len)::Tuple{BigInt, BigInt, Int})\n",
    "    len <= 0 && return nothing\n",
    "    (current, (current + prev, current, len - 1))\n",
    "end"
   ]
  },
  {
   "cell_type": "code",
   "execution_count": 10,
   "metadata": {
    "ExecuteTime": {
     "end_time": "2020-08-08T12:52:18.929000+09:00",
     "start_time": "2020-08-08T03:52:17.978Z"
    }
   },
   "outputs": [
    {
     "data": {
      "text/plain": [
       "10-element Array{BigInt,1}:\n",
       "  1\n",
       "  1\n",
       "  2\n",
       "  3\n",
       "  5\n",
       "  8\n",
       " 13\n",
       " 21\n",
       " 34\n",
       " 55"
      ]
     },
     "execution_count": 10,
     "metadata": {},
     "output_type": "execute_result"
    }
   ],
   "source": [
    "collect(Fib[1:10])"
   ]
  },
  {
   "cell_type": "code",
   "execution_count": 11,
   "metadata": {
    "ExecuteTime": {
     "end_time": "2020-08-08T12:52:26.147000+09:00",
     "start_time": "2020-08-08T03:52:26.084Z"
    }
   },
   "outputs": [
    {
     "data": {
      "text/plain": [
       "10-element Array{BigInt,1}:\n",
       "   2\n",
       "   3\n",
       "   5\n",
       "   8\n",
       "  13\n",
       "  21\n",
       "  34\n",
       "  55\n",
       "  89\n",
       " 144"
      ]
     },
     "execution_count": 11,
     "metadata": {},
     "output_type": "execute_result"
    }
   ],
   "source": [
    "Fib[1:10] .+ Fib[2:11]"
   ]
  },
  {
   "cell_type": "code",
   "execution_count": 12,
   "metadata": {
    "ExecuteTime": {
     "end_time": "2020-08-08T12:52:27.063000+09:00",
     "start_time": "2020-08-08T03:52:26.986Z"
    }
   },
   "outputs": [
    {
     "data": {
      "text/plain": [
       "10-element Array{BigInt,1}:\n",
       "  2\n",
       "  3\n",
       "  5\n",
       "  7\n",
       " 10\n",
       " 14\n",
       " 20\n",
       " 29\n",
       " 43\n",
       " 65"
      ]
     },
     "execution_count": 12,
     "metadata": {},
     "output_type": "execute_result"
    }
   ],
   "source": [
    "Fib[1:10] .+ (1:10)"
   ]
  },
  {
   "cell_type": "code",
   "execution_count": 13,
   "metadata": {
    "ExecuteTime": {
     "end_time": "2020-08-08T12:52:27.632000+09:00",
     "start_time": "2020-08-08T03:52:27.574Z"
    }
   },
   "outputs": [
    {
     "data": {
      "text/plain": [
       "10-element Array{BigInt,1}:\n",
       "   2\n",
       "   2\n",
       "   4\n",
       "   6\n",
       "  10\n",
       "  16\n",
       "  26\n",
       "  42\n",
       "  68\n",
       " 110"
      ]
     },
     "execution_count": 13,
     "metadata": {},
     "output_type": "execute_result"
    }
   ],
   "source": [
    "2 .* Fib[1:10]"
   ]
  },
  {
   "cell_type": "code",
   "execution_count": null,
   "metadata": {},
   "outputs": [],
   "source": []
  },
  {
   "cell_type": "code",
   "execution_count": 14,
   "metadata": {
    "ExecuteTime": {
     "end_time": "2020-08-08T12:52:29.111000+09:00",
     "start_time": "2020-08-08T03:52:29.073Z"
    }
   },
   "outputs": [],
   "source": [
    "using BenchmarkTools"
   ]
  },
  {
   "cell_type": "code",
   "execution_count": 15,
   "metadata": {
    "ExecuteTime": {
     "end_time": "2020-08-08T12:53:00.017000+09:00",
     "start_time": "2020-08-08T03:52:55.251Z"
    }
   },
   "outputs": [
    {
     "data": {
      "text/plain": [
       "BenchmarkTools.Trial: \n",
       "  memory estimate:  4.38 KiB\n",
       "  allocs estimate:  86\n",
       "  --------------\n",
       "  minimum time:     2.109 μs (0.00% GC)\n",
       "  median time:      2.453 μs (0.00% GC)\n",
       "  mean time:        6.034 μs (40.07% GC)\n",
       "  maximum time:     8.372 ms (87.84% GC)\n",
       "  --------------\n",
       "  samples:          10000\n",
       "  evals/sample:     9"
      ]
     },
     "execution_count": 15,
     "metadata": {},
     "output_type": "execute_result"
    }
   ],
   "source": [
    "@benchmark Fib[1:10] .+ Fib[2:11]"
   ]
  },
  {
   "cell_type": "code",
   "execution_count": null,
   "metadata": {},
   "outputs": [],
   "source": []
  }
 ],
 "metadata": {
  "kernelspec": {
   "display_name": "Julia 1.5.0",
   "language": "julia",
   "name": "julia-1.5"
  },
  "language_info": {
   "file_extension": ".jl",
   "mimetype": "application/julia",
   "name": "julia",
   "version": "1.5.0"
  }
 },
 "nbformat": 4,
 "nbformat_minor": 2
}
